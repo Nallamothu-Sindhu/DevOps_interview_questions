{
 "cells": [
  {
   "cell_type": "code",
   "execution_count": null,
   "id": "aa54c04a",
   "metadata": {
    "vscode": {
     "languageId": "plaintext"
    }
   },
   "outputs": [],
   "source": [
    "1.what is terraform and how its work?"
   ]
  },
  {
   "cell_type": "code",
   "execution_count": null,
   "id": "ad1d808d",
   "metadata": {
    "vscode": {
     "languageId": "plaintext"
    }
   },
   "outputs": [],
   "source": [
    "Terraform is an Infrastructure as Code (IaC) tool that allows us to provision, configure, and manage infrastructure across multiple cloud providers like AWS, Azure, GCP, and on-prem.\n",
    "\n",
    "It works in a declarative way:\n",
    "\n",
    "We define the desired infrastructure in .tf files (e.g., VMs, networks, storage).\n",
    "\n",
    "Terraform builds a plan by comparing the current state (from the state file + cloud) with the desired state.\n",
    "\n",
    "On terraform apply, it executes changes to bring real infrastructure in sync with the code.\n",
    "\n",
    "It maintains a state file to track resources and dependencies."
   ]
  },
  {
   "cell_type": "code",
   "execution_count": null,
   "id": "ef3213ba",
   "metadata": {
    "vscode": {
     "languageId": "plaintext"
    }
   },
   "outputs": [],
   "source": [
    "2. A Devops Engineer manually created infrastructure on aws, and now there is a requirement to use terraform to manage it. how would you import these resources in terraform code?"
   ]
  },
  {
   "cell_type": "code",
   "execution_count": null,
   "id": "ec35611d",
   "metadata": {
    "vscode": {
     "languageId": "plaintext"
    }
   },
   "outputs": [],
   "source": [
    "--> If resources are already created manually in AWS, Terraform can still manage them using the terraform import command.\n",
    "Steps I would follow:\n",
    "\n",
    "Write the Terraform resource block in .tf file (matching the AWS resource type). For example:\n",
    "\n",
    "resource \"aws_instance\" \"my_ec2\" {\n",
    "  # arguments will be filled later\n",
    "}\n",
    "\n",
    "Run terraform import with the resource name and the AWS resource ID. Example:\n",
    "\n",
    "terraform import aws_instance.my_ec2 i-0123456789abcdef0\n",
    "\n",
    "After import, Terraform links that AWS resource to the state file.\n",
    "\n",
    "Then I run terraform plan – it may show differences because the .tf file is empty.\n",
    "\n",
    "Use terraform show or terraform state show to capture the actual configuration and update my .tf files accordingly.\n",
    "\n",
    "Once .tf matches the real infra, Terraform can manage it going forward."
   ]
  },
  {
   "cell_type": "code",
   "execution_count": null,
   "id": "3bc6eb34",
   "metadata": {
    "vscode": {
     "languageId": "plaintext"
    }
   },
   "outputs": [],
   "source": [
    "3.you have multiple environments -dev,stage, prod for your application and you want to use the same code for all of these environment. how can you do that?"
   ]
  },
  {
   "cell_type": "code",
   "execution_count": null,
   "id": "f0a38544",
   "metadata": {
    "vscode": {
     "languageId": "plaintext"
    }
   },
   "outputs": [],
   "source": [
    "\"I keep the Terraform code common, and manage differences with variables and separate tfvars files \n",
    "(or workspaces). This way I can reuse the same code for dev, stage, and prod while isolating their state files.\"\n"
   ]
  },
  {
   "cell_type": "code",
   "execution_count": null,
   "id": "47f880f4",
   "metadata": {
    "vscode": {
     "languageId": "plaintext"
    }
   },
   "outputs": [],
   "source": [
    "4.what is terraform state file? why it is importent?"
   ]
  },
  {
   "cell_type": "code",
   "execution_count": null,
   "id": "cb5a713d",
   "metadata": {
    "vscode": {
     "languageId": "plaintext"
    }
   },
   "outputs": [],
   "source": [
    "--> *\"The Terraform state file (terraform.tfstate) is the single source of truth for all the infrastructure managed by Terraform. It maps the resources defined in code to the actual cloud resources, storing their IDs, attributes, and dependencies.\n",
    "\n",
    "It’s crucial because Terraform uses it to:\n",
    "\n",
    "Track Infrastructure: It knows exactly what exists and prevents accidental duplicates.\n",
    "\n",
    "Plan Accurate Changes: Terraform compares the desired configuration with the state to generate precise execution plans.\n",
    "\n",
    "Maintain Dependencies: Ensures resources are created, updated, or destroyed in the right order.\n",
    "\n",
    "Enable Collaboration: Using remote state, multiple engineers can safely work on the same infrastructure without conflicts.\n",
    "\n",
    "Detect Drift & Ensure Idempotency: Any out-of-band changes in the infrastructure are detected, and repeated runs of Terraform don’t break the environment.\n",
    "\n",
    "In short, without the state file, Terraform loses control over the infrastructure. Managing it proactively—using remote backends, state locking, and versioning—is essential for a safe, scalable, and team-friendly DevOps workflow.\"*"
   ]
  },
  {
   "cell_type": "code",
   "execution_count": null,
   "id": "e2979dd9",
   "metadata": {
    "vscode": {
     "languageId": "plaintext"
    }
   },
   "outputs": [],
   "source": [
    "5.Jr Devops engineer accidently deleted the state file, what steps should we take to resolve it?"
   ]
  },
  {
   "cell_type": "code",
   "execution_count": null,
   "id": "04133c48",
   "metadata": {
    "vscode": {
     "languageId": "plaintext"
    }
   },
   "outputs": [],
   "source": [
    "\"If a state file is deleted, first restore it from backup.\n",
    " If no backup exists, we rebuild the state using terraform import for all existing resources.\n",
    " Going forward, we should use remote state with versioning and locking to prevent accidental loss.\""
   ]
  },
  {
   "cell_type": "code",
   "execution_count": null,
   "id": "e33690dc",
   "metadata": {
    "vscode": {
     "languageId": "plaintext"
    }
   },
   "outputs": [],
   "source": [
    "6.what are some best practices to manage terraform state file?"
   ]
  },
  {
   "cell_type": "code",
   "execution_count": null,
   "id": "9cb36a4a",
   "metadata": {
    "vscode": {
     "languageId": "plaintext"
    }
   },
   "outputs": [],
   "source": [
    "Best practices for Terraform state are: use remote backends, \n",
    "enable state locking and versioning, encrypt and secure the state file, \n",
    "separate environments with different state files, and never edit state manually. \n",
    "This ensures safe, scalable, and collaborative infrastructure management.\""
   ]
  },
  {
   "cell_type": "code",
   "execution_count": null,
   "id": "b90303b9",
   "metadata": {
    "vscode": {
     "languageId": "plaintext"
    }
   },
   "outputs": [],
   "source": [
    "7. there are some bash scripts thats you want to run after creating your resources with terraform so how would you achieve this"
   ]
  },
  {
   "cell_type": "code",
   "execution_count": null,
   "id": "c1205a41",
   "metadata": {
    "vscode": {
     "languageId": "plaintext"
    }
   },
   "outputs": [],
   "source": [
    "How to run Bash scripts after creating resources in Terraform\n",
    "\n",
    "Using provisioners (local-exec / remote-exec)\n",
    "\n",
    "Terraform has provisioners that can run commands or scripts after a resource is created.\n",
    "\n",
    "Example: Run a bash script on your local machine after creating an EC2 instance:\n",
    "\n",
    "resource \"aws_instance\" \"web\" {\n",
    "  ami           = \"ami-123456\"\n",
    "  instance_type = \"t2.micro\"\n",
    "\n",
    "  provisioner \"remote-exec\" {\n",
    "    inline = [\n",
    "      \"sudo apt-get update -y\",\n",
    "      \"sudo apt-get install -y nginx\"\n",
    "    ]\n",
    "\n",
    "    connection {\n",
    "      type     = \"ssh\"\n",
    "      user     = \"ec2-user\"\n",
    "      private_key = file(\"~/.ssh/id_rsa\")\n",
    "      host     = self.public_ip\n",
    "    }\n",
    "  }\n",
    "}\n",
    "\n",
    "\n",
    "Or run a local bash script:\n",
    "\n",
    "provisioner \"local-exec\" {\n",
    "  command = \"bash ./scripts/post_deploy.sh\"\n",
    "}\n",
    "\n",
    "\n",
    "Using null_resource + provisioners\n",
    "\n",
    "If the script is not tied to a specific resource, you can use a null_resource.\n",
    "\n",
    "Example:\n",
    "\n",
    "resource \"null_resource\" \"post_setup\" {\n",
    "  provisioner \"local-exec\" {\n",
    "    command = \"bash ./scripts/setup.sh\"\n",
    "  }\n",
    "\n",
    "  depends_on = [aws_instance.web]\n",
    "}\n",
    "\n",
    "\n",
    "Here, Terraform ensures the EC2 instance is created before running the script.\n",
    "\n",
    "Better Practice – Use Configuration Management\n",
    "\n",
    "Provisioners should be a last resort (Terraform docs say this).\n",
    "\n",
    "In real-world setups, we often use:\n",
    "\n",
    "User data (for AWS EC2 to run bash scripts on boot).\n",
    "\n",
    "Configuration management tools like Ansible, Chef, or Puppet for post-deployment scripts.\n",
    "\n",
    "🎯 Interview-style Answer\n",
    "\n",
    "\"To run bash scripts after creating resources, I can use Terraform provisioners like local-exec or remote-exec. If the script isn’t tied to a resource, I’d use a null_resource with depends_on. However, in real-world practice, I prefer user data or a config management tool like Ansible, since provisioners should be a last resort.\""
   ]
  },
  {
   "cell_type": "code",
   "execution_count": null,
   "id": "0b8ee21d",
   "metadata": {
    "vscode": {
     "languageId": "plaintext"
    }
   },
   "outputs": [],
   "source": [
    "8. when you created a environment using terraform  what are the all components  which you have created using terraform"
   ]
  },
  {
   "cell_type": "code",
   "execution_count": null,
   "id": "6c9329be",
   "metadata": {
    "vscode": {
     "languageId": "plaintext"
    }
   },
   "outputs": [],
   "source": [
    "When I create an environment using Terraform, \n",
    "I start with the provider block to connect to the cloud, \n",
    "then configure a remote backend for state management. \n",
    "Next, I define all infrastructure components like networking (VPC, subnets, gateways), compute (EC2, load balancers, autoscaling), storage (S3, RDS, EFS), \n",
    "IAM for security, \n",
    "and monitoring/logging with CloudWatch. \n",
    "I also use variables and outputs to make the code reusable across dev, stage, and prod. This way, the whole environment is automated, modular, and consistent."
   ]
  },
  {
   "cell_type": "code",
   "execution_count": null,
   "id": "a6be68d9",
   "metadata": {
    "vscode": {
     "languageId": "plaintext"
    }
   },
   "outputs": [],
   "source": [
    "9.how to change the configaration alredy created resources using terraform"
   ]
  },
  {
   "cell_type": "code",
   "execution_count": null,
   "id": "915ef29e",
   "metadata": {
    "vscode": {
     "languageId": "plaintext"
    }
   },
   "outputs": [],
   "source": [
    "\"If the resource is already managed by Terraform, \n",
    "I just update the code and run plan + apply. \n",
    "But if the resource was created manually, I use terraform import to bring it under Terraform’s control. \n",
    "After importing, I can safely change its configuration through Terraform like any other resource.\""
   ]
  },
  {
   "cell_type": "code",
   "execution_count": null,
   "id": "690b0635",
   "metadata": {
    "vscode": {
     "languageId": "plaintext"
    }
   },
   "outputs": [],
   "source": [
    "10.when you run terraform code it will generate a state file how you can manage it and store it?"
   ]
  },
  {
   "cell_type": "code",
   "execution_count": null,
   "id": "1e9329fe",
   "metadata": {
    "vscode": {
     "languageId": "plaintext"
    }
   },
   "outputs": [],
   "source": [
    "How Terraform State File is Managed & Stored\n",
    "1. Local State (default)\n",
    "\n",
    "By default, Terraform creates terraform.tfstate locally in the working directory.\n",
    "\n",
    "This works for testing or single-user setups, but is not safe for teams.\n",
    "\n",
    "Risk: file can be deleted, corrupted, or overwritten.\n",
    "\n",
    "2. Remote State (Best Practice for Teams)\n",
    "\n",
    "In production, we store the state file in a remote backend so multiple team members can work safely.\n",
    "\n",
    "Common backends:\n",
    "\n",
    "AWS S3 + DynamoDB → (S3 for state storage, DynamoDB for state locking)\n",
    "\n",
    "Terraform Cloud / Enterprise → built-in remote backend with locking & versioning\n",
    "\n",
    "Azure Blob Storage\n",
    "\n",
    "Google Cloud Storage (GCS)\n",
    "\n",
    "3. Example: Remote State with AWS S3 + DynamoDB\n",
    "terraform {\n",
    "  backend \"s3\" {\n",
    "    bucket         = \"my-terraform-states\"\n",
    "    key            = \"prod/app/terraform.tfstate\"\n",
    "    region         = \"us-east-1\"\n",
    "    dynamodb_table = \"terraform-locks\"   # Prevents concurrent changes\n",
    "    encrypt        = true                # Encrypt state at rest\n",
    "  }\n",
    "}\n",
    "\n",
    "\n",
    "S3 bucket stores the state file.\n",
    "\n",
    "DynamoDB ensures only one apply runs at a time (state locking).\n",
    "\n",
    "Versioning in S3 lets us roll back if state is corrupted/deleted.\n",
    "\n",
    "4. Best Practices for Managing State\n",
    "\n",
    "Always use remote backend for collaboration.\n",
    "\n",
    "Enable state locking (DynamoDB, Terraform Cloud).\n",
    "\n",
    "Enable versioning in the backend storage (S3, GCS).\n",
    "\n",
    "Restrict access using IAM policies.\n",
    "\n",
    "Never edit state manually — use terraform state mv or terraform state rm instead."
   ]
  },
  {
   "cell_type": "code",
   "execution_count": null,
   "id": "004d0034",
   "metadata": {
    "vscode": {
     "languageId": "plaintext"
    }
   },
   "outputs": [],
   "source": [
    "11. if you lose the sate file how you resolve the issue?"
   ]
  },
  {
   "cell_type": "code",
   "execution_count": null,
   "id": "4d9f54ff",
   "metadata": {
    "vscode": {
     "languageId": "plaintext"
    }
   },
   "outputs": [],
   "source": [
    "If the state file is lost, the first step is to restore it from a remote backend or backup. \n",
    "If no backup is available, \n",
    "I would rebuild the state using terraform import for each existing resource.\n",
    "To avoid this issue in the future, I’d store state in a remote backend like S3 with versioning and DynamoDB locking enabled.\""
   ]
  },
  {
   "cell_type": "code",
   "execution_count": null,
   "id": "269a6218",
   "metadata": {
    "vscode": {
     "languageId": "plaintext"
    }
   },
   "outputs": [],
   "source": [
    "12. features of terraform?"
   ]
  },
  {
   "cell_type": "code",
   "execution_count": null,
   "id": "c61f77cd",
   "metadata": {
    "vscode": {
     "languageId": "plaintext"
    }
   },
   "outputs": [],
   "source": [
    "\"Terraform is an Infrastructure-as-Code tool that lets you define your infrastructure declaratively. Its key features are:\n",
    "\n",
    "Execution plans to preview changes before applying.\n",
    "\n",
    "State management to track resources and detect drift.\n",
    "\n",
    "Automatic dependency handling with a resource graph.\n",
    "\n",
    "Multi-cloud support with a wide range of providers.\n",
    "\n",
    "Reusable modules for consistent infrastructure across environments.\n",
    "\n",
    "Together, these features make infrastructure provisioning predictable, scalable, and easy to manage.\""
   ]
  },
  {
   "cell_type": "code",
   "execution_count": null,
   "id": "8afe83e8",
   "metadata": {
    "vscode": {
     "languageId": "plaintext"
    }
   },
   "outputs": [],
   "source": [
    "13.what is terraform validate? why its used?"
   ]
  },
  {
   "cell_type": "code",
   "execution_count": null,
   "id": "6ec65421",
   "metadata": {
    "vscode": {
     "languageId": "plaintext"
    }
   },
   "outputs": [],
   "source": [
    "\"Terraform validate is a CLI command used to check the syntax and correctness of Terraform code without applying it.\n",
    " It helps catch errors early, ensures variables and resources are properly defined, \n",
    " and is useful in CI/CD pipelines to prevent invalid configurations from being applied.\"\n",
    " Terraform validate checks for syntax errors like missing curly braces,\n",
    "  undefined variables, \n",
    "  missing required attributes in resources, \n",
    "  wrong module paths, and incorrect expressions. \n",
    "  It ensures the code is structurally correct before planning or applying changes.\""
   ]
  },
  {
   "cell_type": "code",
   "execution_count": null,
   "id": "c035b312",
   "metadata": {
    "vscode": {
     "languageId": "plaintext"
    }
   },
   "outputs": [],
   "source": [
    "14.life cycle in terraform?"
   ]
  },
  {
   "cell_type": "code",
   "execution_count": null,
   "id": "10e596a6",
   "metadata": {
    "vscode": {
     "languageId": "plaintext"
    }
   },
   "outputs": [],
   "source": [
    "Lifecycle Meta-Arguments\n",
    "\n",
    "create_before_destroy\n",
    "\n",
    "Ensures a new resource is created before the old one is destroyed.\n",
    "\n",
    "Useful for resources where downtime is not acceptable (e.g., load balancers, databases).\n",
    "\n",
    "resource \"aws_instance\" \"web\" {\n",
    "  ami           = \"ami-123456\"\n",
    "  instance_type = \"t2.micro\"\n",
    "\n",
    "  lifecycle {\n",
    "    create_before_destroy = true\n",
    "  }\n",
    "}\n",
    "\n",
    "\n",
    "prevent_destroy\n",
    "\n",
    "Prevents Terraform from destroying a resource, even if it’s removed from the code.\n",
    "\n",
    "Useful for critical resources like production databases or S3 buckets.\n",
    "\n",
    "lifecycle {\n",
    "  prevent_destroy = true\n",
    "}\n",
    "\n",
    "\n",
    "ignore_changes\n",
    "\n",
    "Tells Terraform to ignore changes to specific attributes made outside Terraform.\n",
    "\n",
    "Useful when some attributes are managed manually or by another tool.\n",
    "\n",
    "lifecycle {\n",
    "  ignore_changes = [tags[\"Environment\"]]\n",
    "}\n",
    "\n",
    "2. Why It’s Important\n",
    "\n",
    "Helps avoid downtime during updates.\n",
    "\n",
    "Protects critical resources from accidental deletion.\n",
    "\n",
    "Supports hybrid management where some attributes are changed outside Terraform.\n",
    "\n",
    "\"Terraform lifecycle controls resource behavior during create, update, and destroy.\n",
    "create_before_destroy ensures zero-downtime updates,\n",
    "prevent_destroy protects critical resources from accidental deletion,\n",
    "ignore_changes lets Terraform ignore manual changes to specific attributes.\""
   ]
  },
  {
   "cell_type": "code",
   "execution_count": null,
   "id": "b16e2aae",
   "metadata": {
    "vscode": {
     "languageId": "plaintext"
    }
   },
   "outputs": [],
   "source": [
    "15.what is the differences between terraform and ansible? when we use terraform when we use ansible?"
   ]
  },
  {
   "cell_type": "code",
   "execution_count": null,
   "id": "180e5a6e",
   "metadata": {
    "vscode": {
     "languageId": "plaintext"
    }
   },
   "outputs": [],
   "source": [
    "\"Terraform and Ansible are both DevOps tools but serve different purposes.\n",
    " Terraform is used to provision and manage cloud infrastructure declaratively — like VPCs, EC2, S3, RDS\n",
    "— and it keeps track of resources using a state file. Ansible, \n",
    "on the other hand, is used to configure and manage software on servers \n",
    "— like installing packages, setting up applications, or updating configurations — in an idempotent, \n",
    " task-based way."
   ]
  },
  {
   "cell_type": "code",
   "execution_count": null,
   "id": "6127f578",
   "metadata": {
    "vscode": {
     "languageId": "plaintext"
    }
   },
   "outputs": [],
   "source": [
    "16.we need to destroy one resource  in terraform is it possible ?"
   ]
  },
  {
   "cell_type": "code",
   "execution_count": null,
   "id": "4b888d1a",
   "metadata": {
    "vscode": {
     "languageId": "plaintext"
    }
   },
   "outputs": [],
   "source": [
    "Yes — Terraform allows destroying a single resource without affecting the rest of your infrastructure. Here’s how you can explain it clearly in an interview:\n",
    "\n",
    "1. Using terraform destroy -target\n",
    "\n",
    "You can target a specific resource to destroy:\n",
    "\n",
    "terraform destroy -target=aws_instance.web\n",
    "\n",
    "\n",
    "Terraform will only destroy the aws_instance.web resource and leave all other resources intact.\n",
    "\n",
    "2. Using terraform state rm (Alternative)\n",
    "\n",
    "If you want Terraform to stop managing a resource without destroying it in the cloud:\n",
    "\n",
    "terraform state rm aws_instance.web\n",
    "\n",
    "\n",
    "This removes the resource from the state file; the actual cloud resource remains.\n",
    "\n",
    "Interview-Ready Answer:\n",
    "\n",
    "\"Yes, it’s possible to destroy a single resource in Terraform using terraform destroy -target=<resource> which only destroys the specified resource. Alternatively, terraform state rm <resource> can be used to remove a resource from state without deleting it.\""
   ]
  },
  {
   "cell_type": "code",
   "execution_count": null,
   "id": "2ffc6062",
   "metadata": {
    "vscode": {
     "languageId": "plaintext"
    }
   },
   "outputs": [],
   "source": [
    "17. how you manage secreate in terraform?"
   ]
  },
  {
   "cell_type": "code",
   "execution_count": null,
   "id": "63634dfa",
   "metadata": {
    "vscode": {
     "languageId": "plaintext"
    }
   },
   "outputs": [],
   "source": [
    "Use Sensitive Variables\n",
    "\n",
    "Mark variables as sensitive = true so they won’t be displayed in CLI output or logs.\n",
    "\n",
    "variable \"db_password\" {\n",
    "  type      = string\n",
    "  sensitive = true\n",
    "}\n",
    "\n",
    "\n",
    "Example usage:\n",
    "\n",
    "resource \"aws_db_instance\" \"mydb\" {\n",
    "  username = \"admin\"\n",
    "  password = var.db_password\n",
    "}\n",
    "\n",
    "2. Store Secrets Securely\n",
    "\n",
    "Environment Variables:\n",
    "\n",
    "export TF_VAR_db_password=\"MySecret123\"\n",
    "\n",
    "\n",
    "Secret Management Tools: Use AWS Secrets Manager, HashiCorp Vault, or Parameter Store.\n",
    "\n",
    "data \"aws_secretsmanager_secret_version\" \"db_pass\" {\n",
    "  secret_id = \"prod/db-password\"\n",
    "}\n",
    "\n",
    "resource \"aws_db_instance\" \"mydb\" {\n",
    "  username = \"admin\"\n",
    "  password = data.aws_secretsmanager_secret_version.db_pass.secret_string\n",
    "}\n",
    "\n",
    "3. Protect State Files\n",
    "\n",
    "Terraform state files can contain sensitive values. To secure them:\n",
    "\n",
    "Use remote backend (S3, Terraform Cloud, GCS)\n",
    "\n",
    "Enable encryption (encrypt = true)\n",
    "\n",
    "Enable state locking to prevent concurrent changes\n",
    "\n",
    "terraform {\n",
    "  backend \"s3\" {\n",
    "    bucket         = \"my-terraform-states\"\n",
    "    key            = \"prod/app/terraform.tfstate\"\n",
    "    region         = \"us-east-1\"\n",
    "    encrypt        = true\n",
    "    dynamodb_table = \"terraform-locks\"\n",
    "  }\n",
    "}\n",
    "\n",
    "Interview-Ready Answer:\n",
    "\n",
    "\"To preserve keys in Terraform, I mark variables as sensitive = true, use environment variables or secret managers like AWS Secrets Manager for storing secrets, and store the Terraform state in a secure, encrypted remote backend. This ensures secrets are never exposed in CLI output or logs and the state file remains secure.\""
   ]
  },
  {
   "cell_type": "code",
   "execution_count": null,
   "id": "907448ec",
   "metadata": {
    "vscode": {
     "languageId": "plaintext"
    }
   },
   "outputs": [],
   "source": [
    "18.  we deleted the state file what will happened we again do terraform plan , apply?"
   ]
  },
  {
   "cell_type": "code",
   "execution_count": null,
   "id": "65e329c8",
   "metadata": {
    "vscode": {
     "languageId": "plaintext"
    }
   },
   "outputs": [],
   "source": [
    "What Happens If State File Is Deleted\n",
    "\n",
    "Terraform loses track of all managed resources.\n",
    "\n",
    "The state file is what Terraform uses to know which resources exist and their attributes.\n",
    "\n",
    "If you run terraform plan or terraform apply after deleting the state:\n",
    "\n",
    "Terraform will treat all existing resources as new.\n",
    "\n",
    "It will try to create all resources again, which may cause conflicts or duplicate resources in the cloud."
   ]
  },
  {
   "cell_type": "code",
   "execution_count": null,
   "id": "428e294a",
   "metadata": {
    "vscode": {
     "languageId": "plaintext"
    }
   },
   "outputs": [],
   "source": [
    "19. different kinds of modules in terraform?"
   ]
  },
  {
   "cell_type": "code",
   "execution_count": null,
   "id": "ad69a4d4",
   "metadata": {
    "vscode": {
     "languageId": "plaintext"
    }
   },
   "outputs": [],
   "source": [
    "Terraform Modules\n",
    "\n",
    "A module is a container for multiple resources that are used together.\n",
    "\n",
    "Root module → The main .tf files in your working directory.\n",
    "\n",
    "Child module → Any module called by another module.\n",
    "\n",
    "Types of Modules in Terraform\n",
    "\n",
    "Root Module\n",
    "\n",
    "The main working directory where you run terraform init/apply.\n",
    "\n",
    "Example: All your .tf files in prod/ or dev/ folder.\n",
    "\n",
    "Child / Local Module\n",
    "\n",
    "A module stored locally and reused within your project.\n",
    "\n",
    "Example: modules/vpc/main.tf called from env/prod/main.tf\n",
    "\n",
    "module \"vpc\" {\n",
    "  source = \"../modules/vpc\"\n",
    "  cidr_block = \"10.0.0.0/16\"\n",
    "}\n",
    "\n",
    "\n",
    "Registry Module\n",
    "\n",
    "Modules downloaded from the Terraform Registry (public or private).\n",
    "\n",
    "Example:\n",
    "\n",
    "module \"consul\" {\n",
    "  source  = \"hashicorp/consul/aws\"\n",
    "  version = \"0.10.0\"\n",
    "}\n",
    "\n",
    "\n",
    "External / Published Module\n",
    "\n",
    "Hosted externally, e.g., on GitHub, Bitbucket, or private repo.\n",
    "\n",
    "Example:\n",
    "\n",
    "module \"vpc\" {\n",
    "  source = \"git::https://github.com/org/vpc-module.git\"\n",
    "}\n",
    "\n",
    "Why Use Modules\n",
    "\n",
    "Reusability: Write once, use in multiple environments.\n",
    "\n",
    "Maintainability: Organize large infrastructures.\n",
    "\n",
    "Consistency: Enforce standard practices across teams.\n",
    "\n",
    "Interview-Ready Answer\n",
    "\n",
    "\"Terraform modules are reusable containers for resources. The main types are: root modules (the main working directory), local/child modules (reused locally), registry modules (downloaded from Terraform Registry), and external modules (hosted in GitHub or private repos). Modules help make infrastructure code reusable, consistent, and maintainable.\""
   ]
  },
  {
   "cell_type": "code",
   "execution_count": null,
   "id": "cff037d1",
   "metadata": {
    "vscode": {
     "languageId": "plaintext"
    }
   },
   "outputs": [],
   "source": [
    "20.remote backend in terraform?"
   ]
  },
  {
   "cell_type": "code",
   "execution_count": null,
   "id": "a85a9a44",
   "metadata": {
    "vscode": {
     "languageId": "plaintext"
    }
   },
   "outputs": [],
   "source": [
    "A backend in Terraform determines where the state file is stored.\n",
    "\n",
    "By default, Terraform uses a local backend (state file stored locally).\n",
    "\n",
    "A remote backend stores the state in a centralized location, which is important for team collaboration and security.\n",
    "\n",
    "Benefits of Remote Backend\n",
    "\n",
    "Collaboration: Multiple team members can work on the same infrastructure safely.\n",
    "\n",
    "State Locking: Prevents concurrent runs that could corrupt the state.\n",
    "\n",
    "Versioning: Many remote backends support versioning, allowing rollback of state.\n",
    "\n",
    "Security: State files can contain sensitive data; remote backends often support encryption.\n",
    "\n",
    "Common Remote Backends\n",
    "\n",
    "AWS S3 + DynamoDB (state in S3, locking via DynamoDB)\n",
    "\n",
    "Terraform Cloud / Enterprise (built-in locking & versioning)\n",
    "\n",
    "Azure Blob Storage\n",
    "\n",
    "Google Cloud Storage (GCS)\n",
    "\n",
    "Example: AWS S3 Remote Backend\n",
    "terraform {\n",
    "  backend \"s3\" {\n",
    "    bucket         = \"my-terraform-states\"\n",
    "    key            = \"prod/app/terraform.tfstate\"\n",
    "    region         = \"us-east-1\"\n",
    "    encrypt        = true\n",
    "    dynamodb_table = \"terraform-locks\"  # For locking\n",
    "  }\n",
    "}\n",
    "\n",
    "\n",
    "Explanation:\n",
    "\n",
    "bucket → S3 bucket to store the state\n",
    "\n",
    "key → Path inside the bucket\n",
    "\n",
    "encrypt = true → Encrypt state at rest\n",
    "\n",
    "dynamodb_table → Prevent concurrent apply runs\n",
    "\n",
    "Interview-Ready Answer\n",
    "\n",
    "\"A remote backend in Terraform stores the state file in a centralized location like S3, GCS, or Terraform Cloud. It enables collaboration, state locking, versioning, and encryption, making infrastructure management safer and more reliable for teams.\""
   ]
  },
  {
   "cell_type": "code",
   "execution_count": null,
   "id": "ec2b1fb8",
   "metadata": {
    "vscode": {
     "languageId": "plaintext"
    }
   },
   "outputs": [],
   "source": [
    "21.how do you pass variable in run time in terraform?"
   ]
  },
  {
   "cell_type": "code",
   "execution_count": null,
   "id": "64ddb461",
   "metadata": {
    "vscode": {
     "languageId": "plaintext"
    }
   },
   "outputs": [],
   "source": [
    "Ways to Pass Variables at Runtime in Terraform\n",
    "1. Using -var Flag\n",
    "\n",
    "Pass variables directly in the CLI during plan or apply.\n",
    "\n",
    "terraform plan -var=\"instance_type=t2.micro\" -var=\"env=prod\"\n",
    "terraform apply -var=\"instance_type=t2.micro\"\n",
    "\n",
    "2. Using .tfvars File\n",
    "\n",
    "Create a file, e.g., prod.tfvars:\n",
    "\n",
    "instance_type = \"t2.micro\"\n",
    "env = \"prod\"\n",
    "\n",
    "\n",
    "Pass it during Terraform run:\n",
    "\n",
    "terraform plan -var-file=\"prod.tfvars\"\n",
    "terraform apply -var-file=\"prod.tfvars\"\n",
    "\n",
    "3. Using Environment Variables\n",
    "\n",
    "Prefix variable with TF_VAR_ in your shell:\n",
    "\n",
    "export TF_VAR_instance_type=\"t2.micro\"\n",
    "export TF_VAR_env=\"prod\"\n",
    "terraform apply\n",
    "\n",
    "4. Default Variables\n",
    "\n",
    "You can also define defaults in variables.tf, but they can be overridden at runtime using any of the above methods.\n",
    "\n",
    "variable \"instance_type\" {\n",
    "  type    = string\n",
    "  default = \"t2.small\"\n",
    "}\n",
    "\n",
    "Interview-Ready Answer\n",
    "\n",
    "\"In Terraform, variables can be passed at runtime using the -var flag, through a .tfvars file, or via environment variables prefixed with TF_VAR_. This allows dynamic configura"
   ]
  },
  {
   "cell_type": "code",
   "execution_count": null,
   "id": "26054b33",
   "metadata": {
    "vscode": {
     "languageId": "plaintext"
    }
   },
   "outputs": [],
   "source": [
    "22.in your organization which terraform version your using currently?"
   ]
  },
  {
   "cell_type": "code",
   "execution_count": null,
   "id": "73e52607",
   "metadata": {
    "vscode": {
     "languageId": "plaintext"
    }
   },
   "outputs": [],
   "source": [
    "\"In my current/previous organization, we are using Terraform v1.x (for example, v1.5.7).\n",
    " We chose this version because it provides stable features, improved provider dependency management, \n",
    " better CLI commands, and full backward compatibility with our existing infrastructure modules.\n",
    "  For any critical environments, we always lock the Terraform version in required_version in terraform block to ensure consistency across teams.\""
   ]
  },
  {
   "cell_type": "code",
   "execution_count": null,
   "id": "e8b62f80",
   "metadata": {
    "vscode": {
     "languageId": "plaintext"
    }
   },
   "outputs": [],
   "source": [
    "22. Drawbacks of Terraform"
   ]
  },
  {
   "cell_type": "code",
   "execution_count": null,
   "id": "db12d7c5",
   "metadata": {
    "vscode": {
     "languageId": "plaintext"
    }
   },
   "outputs": [],
   "source": [
    "\n",
    "\n",
    "State File Management – Losing or corrupting the state file can break infrastructure; requires careful handling with remote backends and versioning.\n",
    "\n",
    "Steep Learning Curve – HCL syntax, modules, workspaces, and state concepts can be tricky for beginners.\n",
    "\n",
    "Limited Procedural Logic – Being declarative, complex conditional logic or loops are harder compared to imperative tools.\n",
    "\n",
    "Provider Limitations – Some cloud providers or services may not have full Terraform support or lag behind new features.\n",
    "\n",
    "Secrets Management – Sensitive data can be exposed if state files are not encrypted; often requires integration with Vault or cloud secret managers.\n",
    "\n",
    "Dependency on Other Tools – To configure applications inside VMs, Terraform usually relies on tools like Ansible, Chef, or shell scripts."
   ]
  },
  {
   "cell_type": "code",
   "execution_count": null,
   "id": "3f5b777d",
   "metadata": {
    "vscode": {
     "languageId": "plaintext"
    }
   },
   "outputs": [],
   "source": [
    "23. terraform init, plan , apply, destroy?"
   ]
  },
  {
   "cell_type": "code",
   "execution_count": null,
   "id": "ab8a4328",
   "metadata": {
    "vscode": {
     "languageId": "plaintext"
    }
   },
   "outputs": [],
   "source": [
    "\"Terraform init initializes the working directory and downloads providers.\n",
    " Terraform plan shows a preview of changes without applying them.\n",
    "  Terraform apply executes the changes to reach the desired state,\n",
    "   and terraform destroy removes all resources managed by Terraform.\""
   ]
  }
 ],
 "metadata": {
  "language_info": {
   "name": "python"
  }
 },
 "nbformat": 4,
 "nbformat_minor": 5
}
