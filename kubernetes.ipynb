{
 "cells": [
  {
   "cell_type": "markdown",
   "id": "0910a503",
   "metadata": {},
   "source": [
    "1. How do you debug a pod stuck in CrashLoopBackoff?"
   ]
  },
  {
   "cell_type": "code",
   "execution_count": null,
   "id": "8ec0f3e4",
   "metadata": {
    "vscode": {
     "languageId": "plaintext"
    }
   },
   "outputs": [],
   "source": [
    "--> “If a pod is stuck in CrashLoopBackOff, I usually follow a structured debugging process. First, I check the pod’s status with kubectl get pods to confirm the issue.\n",
    "--> Then I run kubectl describe pod <pod-name> to see events, like whether it’s failing due to liveness/readiness probes, OOMKilled, or some other scheduling issue.\n",
    "--> Next, I check the container logs using kubectl logs <pod-name>, and if the pod is restarting too quickly, I use the --previous flag to capture logs from the previous crash. [kubectl logs <pod-name> --previous\n",
    "] if pod as multiple container [kubectl logs <pod-name> -c <container-name> --previous]\n",
    "Based on experience, common causes are application errors, misconfigured environment variables, wrong commands/entrypoints in the image, failed probes, or resource constraints. For example, if the logs show ‘OOMKilled’, I would increase memory limits. If the liveness probe is failing, I would adjust the probe configuration or fix the app’s startup.\n",
    "If logs don’t help, I use kubectl debug or override the entrypoint with a sleep command so I can exec into the container and inspect configs or dependencies.\n",
    "So my approach is: check describe, check logs, validate probes and resource limits, and then fix the underlying application or configuration issue before redeploying.”*"
   ]
  },
  {
   "cell_type": "code",
   "execution_count": null,
   "id": "ecf2d9fa",
   "metadata": {
    "vscode": {
     "languageId": "plaintext"
    }
   },
   "outputs": [],
   "source": [
    "2.How will you stop pod in k8s?"
   ]
  },
  {
   "cell_type": "code",
   "execution_count": null,
   "id": "23435d93",
   "metadata": {
    "vscode": {
     "languageId": "plaintext"
    }
   },
   "outputs": [],
   "source": [
    "--> *“In Kubernetes, we normally don’t stop a pod directly, because pods are managed by higher-level controllers like Deployments, ReplicaSets, or StatefulSets. If I just delete the pod using kubectl delete pod <pod-name>, the controller will immediately recreate it to maintain the desired replicas.\n",
    "If I really want to stop the pod permanently, \n",
    "\n",
    "--> I need to scale down the controller (for example, kubectl scale deployment <name> --replicas=0). That way, Kubernetes won’t recreate the pod.\n",
    "cmd: kubectl scale deployment sindhu-deployment  --replicas=0 -n default \n",
    "\n",
    "--> If it’s a standalone pod without a controller, deleting it with kubectl delete pod will stop it.\n",
    "\n",
    "--> For debugging, I can also temporarily ‘stop’ a pod by running kubectl drain on the node, or by setting replicas=0 in the YAML manifest.”*"
   ]
  },
  {
   "cell_type": "code",
   "execution_count": null,
   "id": "b1787bba",
   "metadata": {
    "vscode": {
     "languageId": "plaintext"
    }
   },
   "outputs": [],
   "source": [
    "3. how will you replicate a pod ?"
   ]
  },
  {
   "cell_type": "code",
   "execution_count": null,
   "id": "42f25654",
   "metadata": {
    "vscode": {
     "languageId": "plaintext"
    }
   },
   "outputs": [],
   "source": [
    "--> *“In Kubernetes, we don’t usually replicate a single pod manually because pods are ephemeral and managed by controllers. Instead, we use controllers like Deployments, ReplicaSets, or StatefulSets to handle replication automatically.\n",
    "    For example, if I have a pod defined in a Deployment, I can increase the number of replicas by updating the replicas field:*\n",
    "\n",
    "--> kubectl scale deployment <deployment-name> --replicas=3\n",
    "\n",
    "--> *This ensures Kubernetes maintains 3 copies of the pod. If a pod crashes, the controller automatically recreates it.\n",
    "\n",
    "--> For standalone pods (not managed by a controller), I would need to manually create additional pods with the same specification, but that’s not recommended in production.”*"
   ]
  },
  {
   "cell_type": "code",
   "execution_count": null,
   "id": "e1a47317",
   "metadata": {
    "vscode": {
     "languageId": "plaintext"
    }
   },
   "outputs": [],
   "source": [
    "4. command to get logs in k8s?"
   ]
  },
  {
   "cell_type": "code",
   "execution_count": null,
   "id": "dae37918",
   "metadata": {
    "vscode": {
     "languageId": "plaintext"
    }
   },
   "outputs": [],
   "source": [
    "“To check logs in Kubernetes, I use kubectl logs <pod-name>.\n",
    " If the pod has multiple containers, I specify the container with -c <container-name>. \n",
    " For pods that are crashing repeatedly, I use the --previous flag to see logs from the last crashed instance.\n",
    " And if the pod is in a different namespace, I add -n <namespace>.”"
   ]
  },
  {
   "cell_type": "code",
   "execution_count": null,
   "id": "7d165f21",
   "metadata": {
    "vscode": {
     "languageId": "plaintext"
    }
   },
   "outputs": [],
   "source": [
    "5.what will you do if pod is getting more load and we need to stay it healthy before it gets died?"
   ]
  },
  {
   "cell_type": "code",
   "execution_count": null,
   "id": "6b5a9659",
   "metadata": {
    "vscode": {
     "languageId": "plaintext"
    }
   },
   "outputs": [],
   "source": [
    "“If a pod is experiencing high load and we want to keep it healthy, I would handle it in multiple ways:\n",
    "\n",
    "Horizontal Scaling: Increase the number of pod replicas using a Deployment or ReplicaSet. For example:*\n",
    "\n",
    "kubectl scale deployment <deployment-name> --replicas=3\n",
    "\n",
    "Or set up a Horizontal Pod Autoscaler (HPA) to automatically scale based on CPU/memory load:\n",
    "\n",
    "kubectl autoscale deployment <deployment-name> --cpu-percent=50 --min=2 --max=10\n",
    "\n",
    "Vertical Scaling: Increase the resources (CPU/memory) allocated to the pod in its YAML spec to handle higher load.\n",
    "\n",
    "Load Distribution: Ensure the service is properly load-balanced across the pods.\n",
    "\n",
    "Readiness/Liveness Probes: Check that probes are configured correctly so Kubernetes can restart unhealthy pods before they fail completely.\n",
    "\n",
    "So my approach is proactive: scale horizontally, ensure sufficient resources, and configure proper probes to maintain pod health under high load.”"
   ]
  },
  {
   "cell_type": "code",
   "execution_count": null,
   "id": "9b43924a",
   "metadata": {
    "vscode": {
     "languageId": "plaintext"
    }
   },
   "outputs": [],
   "source": [
    "6. How do you manage multiple environments (dev, stage, prod)?\n",
    "\n",
    "Separate namespaces or clusters.\n",
    "\n",
    "Use Helm or Kustomize for environment-specific configs."
   ]
  },
  {
   "cell_type": "code",
   "execution_count": null,
   "id": "480ac3b6",
   "metadata": {
    "vscode": {
     "languageId": "plaintext"
    }
   },
   "outputs": [],
   "source": [
    "\"Auto-generated Terraform code is useful to bootstrap,\n",
    " but it’s not production-ready. It usually contains hardcoded values,\n",
    "  lacks variables and modules, and doesn’t follow best practices like state management or secrets handling.\n",
    "   We should refactor it into reusable modules with variables, \n",
    "  outputs, and remote backends before using it for real infrastructure.\""
   ]
  },
  {
   "cell_type": "code",
   "execution_count": null,
   "id": "70c9e6ad",
   "metadata": {
    "vscode": {
     "languageId": "plaintext"
    }
   },
   "outputs": [],
   "source": [
    "7. what is kubernetes, and what problem does it solve?"
   ]
  },
  {
   "cell_type": "code",
   "execution_count": null,
   "id": "0d887361",
   "metadata": {
    "vscode": {
     "languageId": "plaintext"
    }
   },
   "outputs": [],
   "source": [
    "Kubernetes, or K8s, is an open-source container orchestration platform used to deploy,\n",
    "manage, and scale containerized applications. It solves the challenges of running applications at scale, \n",
    "where managing hundreds of containers manually becomes complex. Kubernetes automates deployments, \n",
    "rollouts, and rollbacks. It ensures high availability by rescheduling workloads if a container or node \n",
    "fails. It also handles service discovery, load balancing, and auto-scaling based on demand. \n",
    "Additionally, it optimizes resource usage by scheduling workloads efficiently across nodes. \n",
    "In short, Kubernetes makes running applications in production more reliable and automated."
   ]
  },
  {
   "cell_type": "code",
   "execution_count": null,
   "id": "4f4e7ae5",
   "metadata": {
    "vscode": {
     "languageId": "plaintext"
    }
   },
   "outputs": [],
   "source": [
    "8.what is container orchestration platform why not other why k8s?"
   ]
  },
  {
   "cell_type": "code",
   "execution_count": null,
   "id": "1ac288f0",
   "metadata": {
    "vscode": {
     "languageId": "plaintext"
    }
   },
   "outputs": [],
   "source": [
    "A container orchestration platform automates how containers are deployed, scaled, and managed across multiple servers.\n",
    "While there are tools like Docker Swarm, Kubernetes is preferred because it’s more mature, cloud-agnostic, \n",
    "and has strong community and ecosystem support. It offers advanced features like self-healing,\n",
    "auto-scaling, and rolling updates, which make it production-ready. \n",
    "That’s why Kubernetes has become the industry standard."
   ]
  },
  {
   "cell_type": "code",
   "execution_count": null,
   "id": "cf3d6935",
   "metadata": {
    "vscode": {
     "languageId": "plaintext"
    }
   },
   "outputs": [],
   "source": [
    "9.Explain the architecture of kubernetes?"
   ]
  },
  {
   "cell_type": "code",
   "execution_count": null,
   "id": "ad458ea8",
   "metadata": {
    "vscode": {
     "languageId": "plaintext"
    }
   },
   "outputs": [],
   "source": [
    "Kubernetes has a master–worker architecture. The control plane (master) manages the cluster and has components \n",
    "like the API server (entry point), etcd (stores cluster state), controller manager (maintains desired state),\n",
    "and scheduler (assigns pods to nodes). The worker nodes run the actual applications.\n",
    "Each node has a kubelet (communicates with master), kube-proxy (handles networking), \n",
    "and a container runtime like Docker or containerd to run containers. I\n",
    "n simple terms, the master decides what should happen, and the workers actually run the workloads."
   ]
  },
  {
   "cell_type": "code",
   "execution_count": null,
   "id": "ea3a6e11",
   "metadata": {
    "vscode": {
     "languageId": "plaintext"
    }
   },
   "outputs": [],
   "source": [
    "10.what is pod in kubernetes?"
   ]
  },
  {
   "cell_type": "code",
   "execution_count": null,
   "id": "ea12c048",
   "metadata": {
    "vscode": {
     "languageId": "plaintext"
    }
   },
   "outputs": [],
   "source": [
    "A Pod in Kubernetes is the smallest deployable unit, which represents one or more containers \n",
    "that are deployed together on the same node. Containers in a Pod share the same network namespace,\n",
    "IP address, and storage volumes, which allows them to communicate easily. Pods are the basic building blocks of Kubernetes, \n",
    "and higher-level objects like Deployments or ReplicaSets manage Pods for scaling and reliability."
   ]
  },
  {
   "cell_type": "code",
   "execution_count": null,
   "id": "670f2522",
   "metadata": {
    "vscode": {
     "languageId": "plaintext"
    }
   },
   "outputs": [],
   "source": [
    "11. how does kubernetes ensure high avilability and scalability of applications?"
   ]
  },
  {
   "cell_type": "code",
   "execution_count": null,
   "id": "241f7edf",
   "metadata": {
    "vscode": {
     "languageId": "plaintext"
    }
   },
   "outputs": [],
   "source": [
    "Kubernetes ensures high availability by running applications in multiple replicas using ReplicaSets/Deployments. \n",
    "If a pod or even a node fails, the control plane automatically reschedules the workload on a healthy node,\n",
    "so the application stays available. It also supports load balancing through Services, \n",
    "which distribute traffic across pods.For scalability, Kubernetes has \n",
    "Horizontal Pod Autoscaler (HPA) and Vertical Pod Autoscaler (VPA).\n",
    "HPA automatically increases or decreases the number of pods based on metrics like CPU or memory usage, \n",
    "while VPA adjusts resource limits. It can also scale across nodes using Cluster Autoscaler in cloud environments.\n",
    "In short, Kubernetes keeps applications running reliably and scales them up or down automatically based on demand"
   ]
  },
  {
   "cell_type": "code",
   "execution_count": null,
   "id": "0f9b9ee6",
   "metadata": {
    "vscode": {
     "languageId": "plaintext"
    }
   },
   "outputs": [],
   "source": [
    "12.what is kubernetes service, how does it work?"
   ]
  },
  {
   "cell_type": "code",
   "execution_count": null,
   "id": "ac33f6ac",
   "metadata": {
    "vscode": {
     "languageId": "plaintext"
    }
   },
   "outputs": [],
   "source": [
    "A Kubernetes Service is an abstraction that defines a logical set of pods and a policy to access them.\n",
    "Since pods are ephemeral (they can die and get recreated with new IPs), a Service provides a stable IP address and DNS name so other components or users can reliably communicate with the pods.\n",
    "How it works:when you create a Service, Kubernetes assigns it a cluster IP.\n",
    "\n",
    "It automatically maps the service to the backend pods using labels and selectors.\n",
    "\n",
    "kube-proxy on each node manages traffic routing from the Service IP to the pod IPs.\n",
    "\n",
    "Services can be of different types:\n",
    "\n",
    "ClusterIP – accessible only within the cluster.\n",
    "\n",
    "NodePort – exposes the service on a static port of each node.\n",
    "\n",
    "LoadBalancer – integrates with cloud provider load balancers.\n",
    "\n",
    "ExternalName – maps the service to an external DNS name.\n",
    "\n",
    "In short, Services make pods discoverable and allow stable access despite pods being dynamic."
   ]
  },
  {
   "cell_type": "code",
   "execution_count": null,
   "id": "0003c556",
   "metadata": {
    "vscode": {
     "languageId": "plaintext"
    }
   },
   "outputs": [],
   "source": [
    "13. difference between deployments and statefulsets?"
   ]
  },
  {
   "cell_type": "code",
   "execution_count": null,
   "id": "4396bec7",
   "metadata": {
    "vscode": {
     "languageId": "plaintext"
    }
   },
   "outputs": [],
   "source": [
    "Both Deployments and StatefulSets are used to manage pods, but they are designed for different use cases.\n",
    "Deployments:\n",
    "Used for stateless applications like web servers or APIs.\n",
    "Pods are interchangeable, meaning any pod can replace another.\n",
    "Supports rolling updates and rollbacks easily.\n",
    "Pod names are random and IPs are dynamic.\n",
    "StatefulSets:\n",
    "Used for stateful applications like databases (MySQL, Cassandra) that need persistent storage.\n",
    "Pods are unique and ordered; they maintain a stable identity (persistent hostname and storage).\n",
    "Supports ordered deployment, scaling, and deletion.\n",
    "Each pod gets a stable network identity and persistent volume.\n",
    "In short: Use Deployments for stateless apps, and StatefulSets for stateful apps that need stable storage and identity."
   ]
  },
  {
   "cell_type": "code",
   "execution_count": null,
   "id": "3a421bd5",
   "metadata": {
    "vscode": {
     "languageId": "plaintext"
    }
   },
   "outputs": [],
   "source": [
    "14. Explain the concept of kubernetes Persistent Volumes(pvs) and persistent Volume Claims(Pvcs)?"
   ]
  },
  {
   "cell_type": "code",
   "execution_count": null,
   "id": "2c032e92",
   "metadata": {
    "vscode": {
     "languageId": "plaintext"
    }
   },
   "outputs": [],
   "source": [
    "In Kubernetes, pods are ephemeral, meaning their storage is lost if the pod dies.\n",
    "To manage persistent storage, Kubernetes uses Persistent Volumes (PVs) and Persistent Volume Claims (PVCs).\n",
    "Persistent Volume (PV): A PV is a piece of storage in the cluster provisioned by an admin \n",
    "or dynamically by a storage class. It abstracts the underlying storage \n",
    "(like NFS, AWS EBS, GCE Persistent Disk, etc.).\n",
    "Persistent Volume Claim (PVC): A PVC is a request for storage by a pod. It specifies size, access mode,\n",
    " and storage class. Kubernetes then binds the PVC to a suitable PV.\n",
    "How it works:\n",
    "Admin creates PVs (or uses dynamic provisioning).\n",
    "Developer creates a PVC in the pod spec.\n",
    "Kubernetes finds a matching PV and binds it.\n",
    "The pod can now read/write to persistent storage, even if it is rescheduled to another node.\n",
    "In short: PV is the actual storage, PVC is the request for storage, and Kubernetes handles the binding between\n",
    "them to provide persistent storage to pods."
   ]
  },
  {
   "cell_type": "code",
   "execution_count": null,
   "id": "0dca3586",
   "metadata": {
    "vscode": {
     "languageId": "plaintext"
    }
   },
   "outputs": [],
   "source": [
    "15.what are kubernetes Lables and selectors, and how they used?"
   ]
  },
  {
   "cell_type": "code",
   "execution_count": null,
   "id": "3409892a",
   "metadata": {
    "vscode": {
     "languageId": "plaintext"
    }
   },
   "outputs": [],
   "source": [
    "Labels in Kubernetes are key-value pairs attached to objects like pods, deployments, or services.\n",
    "They are used to organize, identify, and group resources. Labels themselves don’t provide behavior; \n",
    "they are just metadata.Selectors are used to query or select objects based on their labels. \n",
    "Kubernetes uses selectors to determine which pods a Service, Deployment, or other resource should manage.\n",
    "How they are used:\n",
    "Grouping pods for a Service: A Service uses a label selector to route traffic to matching pods.\n",
    "Managing workloads: Deployments use label selectors to manage the pods they create.\n",
    "Filtering and monitoring: Labels help with kubectl queries, monitoring, and organizing resources."
   ]
  },
  {
   "cell_type": "code",
   "execution_count": null,
   "id": "5afc9eb5",
   "metadata": {
    "vscode": {
     "languageId": "plaintext"
    }
   },
   "outputs": [],
   "source": [
    "16. Explain Kubernetes Rolling Updates and Rollbacks?"
   ]
  },
  {
   "cell_type": "code",
   "execution_count": null,
   "id": "27ac7c87",
   "metadata": {
    "vscode": {
     "languageId": "plaintext"
    }
   },
   "outputs": [],
   "source": [
    "A Rolling Update in Kubernetes is a way to update applications gradually without downtime.\n",
    "Instead of stopping all pods at once, Kubernetes updates pods one by one (or in batches), \n",
    "ensuring that some instances of the application are always available. This is typically done via a Deployment, \n",
    "which manages the process automatically.If something goes wrong during the update, Kubernetes allows \n",
    "a Rollback, which reverts the Deployment to a previous stable version. Rollbacks use the Deployment’s \n",
    "revision history, so you can quickly restore the application to its last working state.\n",
    "Key points:\n",
    "Rolling updates provide zero downtime during upgrades.\n",
    "Rollbacks ensure safety if the new version fails.\n",
    "Controlled via Deployment strategy, with options like maxUnavailable and maxSurge to control the speed and safety of the rollout.\n",
    "In short: Rolling updates let you update applications smoothly, and rollbacks let you revert if anything goes wrong."
   ]
  },
  {
   "cell_type": "code",
   "execution_count": null,
   "id": "a7c0d90e",
   "metadata": {
    "vscode": {
     "languageId": "plaintext"
    }
   },
   "outputs": [],
   "source": [
    "17. what is Kubernetes configmap, and how is it used?"
   ]
  },
  {
   "cell_type": "code",
   "execution_count": null,
   "id": "85605af6",
   "metadata": {
    "vscode": {
     "languageId": "plaintext"
    }
   },
   "outputs": [],
   "source": [
    "A ConfigMap in Kubernetes is an object used to store non-confidential configuration data in key-value pairs. It allows you to decouple configuration from container images, so you can change application settings without rebuilding the image.\n",
    "How it’s used:\n",
    "You can inject ConfigMap data into pods as environment variables or mount it as files inside the container.\n",
    "ConfigMaps are useful for application settings, config files, or command-line arguments.\n",
    "This enables dynamic configuration; you can update the ConfigMap, and pods can reload the configuration without redeploying."
   ]
  },
  {
   "cell_type": "code",
   "execution_count": null,
   "id": "ccdadb51",
   "metadata": {
    "vscode": {
     "languageId": "plaintext"
    }
   },
   "outputs": [],
   "source": [
    "18. What is the purpose of Kubernetes ingress?"
   ]
  },
  {
   "cell_type": "code",
   "execution_count": null,
   "id": "b0c31923",
   "metadata": {
    "vscode": {
     "languageId": "plaintext"
    }
   },
   "outputs": [],
   "source": [
    "A Kubernetes Ingress is an API object that manages external access to services in a cluster, \n",
    "typically HTTP or HTTPS traffic. It provides a single entry point for multiple services, \n",
    "allowing you to route requests based on hostnames or URL paths.\n",
    "Purpose and features:\n",
    "Routing traffic: Directs incoming requests to the correct service based on rules.\n",
    "TLS/SSL termination: Can handle HTTPS connections at the ingress level.\n",
    "Load balancing: Distributes traffic to backend pods.\n",
    "Centralized access management: Makes exposing multiple services simpler than using multiple NodePorts or LoadBalancers."
   ]
  },
  {
   "cell_type": "code",
   "execution_count": null,
   "id": "41f29581",
   "metadata": {
    "vscode": {
     "languageId": "plaintext"
    }
   },
   "outputs": [],
   "source": [
    "19.how does kubernetes handle container networking?"
   ]
  },
  {
   "cell_type": "code",
   "execution_count": null,
   "id": "a0668ff1",
   "metadata": {
    "vscode": {
     "languageId": "plaintext"
    }
   },
   "outputs": [],
   "source": [
    "Kubernetes handles container networking using a flat network model where every pod gets its own IP address,\n",
    "and all pods can communicate with each other without NAT.\n",
    "This simplifies networking and allows pods to talk to each other directly.\n",
    "Key points of Kubernetes networking:\n",
    "Pod-to-Pod communication: Every pod gets a unique IP. Containers within a pod share the same network namespace.\n",
    "Service-to-Pod communication: Kubernetes Services provide a stable IP and DNS name to access pods, even if pods are recreated.\n",
    "kube-proxy: Runs on each node to manage routing and load balancing from services to pods.\n",
    "Network plugins (CNI): Kubernetes uses the Container Network Interface (CNI) standard,\n",
    "and plugins like Calico, Flannel, or Weave handle the actual networking implementation."
   ]
  },
  {
   "cell_type": "code",
   "execution_count": null,
   "id": "35fba853",
   "metadata": {
    "vscode": {
     "languageId": "plaintext"
    }
   },
   "outputs": [],
   "source": [
    "20. Explain kubernetes RBAC and its importance?"
   ]
  },
  {
   "cell_type": "code",
   "execution_count": null,
   "id": "8ec5ce99",
   "metadata": {
    "vscode": {
     "languageId": "plaintext"
    }
   },
   "outputs": [],
   "source": [
    "RBAC (Role-Based Access Control) in Kubernetes is a way to control who can do what within the cluster. \n",
    "It lets you define roles with specific permissions and then bind them to users, groups, or service accounts.\n",
    "Key components:\n",
    "Role / ClusterRole: Defines a set of permissions (like get, list, create) on resources. Role is namespace-scoped, while ClusterRole is cluster-wide.\n",
    "RoleBinding / ClusterRoleBinding: Assigns a Role or ClusterRole to a user, group, or service account.\n",
    "Importance:\n",
    "Ensures security by granting only the required access.\n",
    "Helps follow the principle of least privilege.\n",
    "Allows multi-tenant clusters safely, where different teams or applications have restricted access.\n"
   ]
  }
 ],
 "metadata": {
  "language_info": {
   "name": "python"
  }
 },
 "nbformat": 4,
 "nbformat_minor": 5
}
